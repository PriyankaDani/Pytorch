{
 "cells": [
  {
   "cell_type": "markdown",
   "id": "e5f0b6d8",
   "metadata": {},
   "source": [
    "## Code Reference:\n",
    "https://pytorch.org/tutorials/beginner/basics/data_tutorial.html\n",
    "https://pytorch.org/tutorials/beginner/basics/data_tutorial.html"
   ]
  },
  {
   "cell_type": "code",
   "execution_count": 1,
   "id": "080c3cf9",
   "metadata": {},
   "outputs": [],
   "source": [
    "import torch\n",
    "import numpy as np"
   ]
  },
  {
   "cell_type": "markdown",
   "id": "a1d484a5",
   "metadata": {},
   "source": [
    "## Tensor Initialization"
   ]
  },
  {
   "cell_type": "code",
   "execution_count": 4,
   "id": "0d5759d6",
   "metadata": {},
   "outputs": [
    {
     "name": "stdout",
     "output_type": "stream",
     "text": [
      "data = [[1, 2], [3, 4]] \n",
      "tensor = tensor([[1, 2],\n",
      "        [3, 4]])\n"
     ]
    }
   ],
   "source": [
    "#From direct data \n",
    "\n",
    "data = [[1,2],[3,4]] #list\n",
    "tensor_data = torch.tensor(data)\n",
    "print(f\"data = {data} \\ntensor = {tensor_data}\")"
   ]
  },
  {
   "cell_type": "code",
   "execution_count": 5,
   "id": "3ccf71eb",
   "metadata": {},
   "outputs": [
    {
     "name": "stdout",
     "output_type": "stream",
     "text": [
      "np_array = [[1 2]\n",
      " [3 4]] \n",
      "tensor = tensor([[1, 2],\n",
      "        [3, 4]], dtype=torch.int32)\n"
     ]
    }
   ],
   "source": [
    "#From numpy array\n",
    "\n",
    "np_array = np.array(data)\n",
    "tensor_np = torch.from_numpy(np_array)\n",
    "print(f\"np_array = {np_array} \\ntensor = {tensor_np}\")"
   ]
  },
  {
   "cell_type": "code",
   "execution_count": 10,
   "id": "8abb3cd6",
   "metadata": {},
   "outputs": [
    {
     "name": "stdout",
     "output_type": "stream",
     "text": [
      "tensor 2 = tensor([[1, 1],\n",
      "        [1, 1]]) dtype = torch.int64 \n",
      "tensor 3 = tensor([[0.2657, 0.0837],\n",
      "        [0.0504, 0.1515]]) dtype = torch.float32\n"
     ]
    }
   ],
   "source": [
    "#From other Tensors\n",
    "\n",
    "tensor_2 = torch.ones_like(tensor_data)\n",
    "tensor_3 = torch.rand_like(tensor_data, dtype = torch.float)\n",
    "\n",
    "print(f\"tensor 2 = {tensor_2} dtype = {tensor_2.dtype} \\ntensor 3 = {tensor_3} dtype = {tensor_3.dtype}\")"
   ]
  },
  {
   "cell_type": "code",
   "execution_count": 15,
   "id": "cdc39a86",
   "metadata": {},
   "outputs": [
    {
     "name": "stdout",
     "output_type": "stream",
     "text": [
      "Random tensor: \n",
      "tensor([[0.2814, 0.3229, 0.5737],\n",
      "        [0.7884, 0.5181, 0.5543]]) \n",
      "Ones Tensor: \n",
      "tensor([[1., 1., 1.],\n",
      "        [1., 1., 1.]]) \n",
      "Zeros Tensor: \n",
      "tensor([[0., 0., 0.],\n",
      "        [0., 0., 0.]])\n",
      "\n"
     ]
    }
   ],
   "source": [
    "#Initializing tensor with random/constant values\n",
    "\n",
    "#Give shape as input in tuple form\n",
    "shape=(2,3)\n",
    "\n",
    "rand_tensor = torch.rand(shape)\n",
    "ones_tensor = torch.ones(shape)\n",
    "zeros_tensor = torch.zeros(shape)\n",
    "\n",
    "print(f\"Random tensor: \\n{rand_tensor} \\nOnes Tensor: \\n{ones_tensor} \\nZeros Tensor: \\n{zeros_tensor}\\n\")"
   ]
  },
  {
   "cell_type": "markdown",
   "id": "169a3773",
   "metadata": {},
   "source": [
    "## Tensor Attributes"
   ]
  },
  {
   "cell_type": "code",
   "execution_count": 17,
   "id": "d64c0c76",
   "metadata": {},
   "outputs": [
    {
     "name": "stdout",
     "output_type": "stream",
     "text": [
      "Shape = torch.Size([2, 3])\n",
      "Data Type = torch.float32\n",
      "On Device = cpu\n"
     ]
    }
   ],
   "source": [
    "#Shape, Device and Dtype\n",
    "\n",
    "tensor = torch.rand(2,3)\n",
    "\n",
    "print(f\"Shape = {tensor.shape}\")\n",
    "print(f\"Data Type = {tensor.dtype}\")\n",
    "print(f\"On Device = {tensor.device}\")"
   ]
  },
  {
   "cell_type": "markdown",
   "id": "72b82da0",
   "metadata": {},
   "source": [
    "## Operations on Tensors"
   ]
  },
  {
   "cell_type": "code",
   "execution_count": 18,
   "id": "2d02b230",
   "metadata": {},
   "outputs": [
    {
     "name": "stdout",
     "output_type": "stream",
     "text": [
      "Cuda Not Available\n",
      "Running on cpu\n"
     ]
    }
   ],
   "source": [
    "#Identify the device available\n",
    "\n",
    "if torch.cuda.is_available(): \n",
    "    print(\"Cuda available\")\n",
    "    tensor = tensor.to(\"cuda\")\n",
    "    device = 'cuda'\n",
    "else:\n",
    "    print(\"Cuda Not Available\")\n",
    "    print(\"Running on cpu\")\n",
    "    device = 'cpu'\n"
   ]
  },
  {
   "cell_type": "code",
   "execution_count": 20,
   "id": "77129c00",
   "metadata": {},
   "outputs": [
    {
     "name": "stdout",
     "output_type": "stream",
     "text": [
      "Original Tensor: \n",
      "tensor([[0.7754, 0.1848, 0.3625, 0.6051],\n",
      "        [0.8639, 0.0778, 0.5397, 0.8334],\n",
      "        [0.9971, 0.7942, 0.7015, 0.2988],\n",
      "        [0.8001, 0.5351, 0.6911, 0.2826]])\n",
      "\n",
      "First Row: \n",
      "tensor([0.7754, 0.1848, 0.3625, 0.6051])\n",
      "\n",
      "First Column: \n",
      "tensor([0.7754, 0.8639, 0.9971, 0.8001])\n",
      "\n",
      "Modified tensor: \n",
      "tensor([[0.0000, 0.0000, 0.3625, 0.6051],\n",
      "        [0.0000, 0.0000, 0.5397, 0.8334],\n",
      "        [0.9971, 0.7942, 0.7015, 0.2988],\n",
      "        [0.8001, 0.5351, 0.6911, 0.2826]])\n",
      "\n"
     ]
    }
   ],
   "source": [
    "#Standard indexing and slicing\n",
    "\n",
    "tensor = torch.rand(4,4)\n",
    "print(f\"Original Tensor: \\n{tensor}\\n\")\n",
    "\n",
    "print(f\"First Row: \\n{tensor[0,:]}\\n\")\n",
    "print(f\"First Column: \\n{tensor[:,0]}\\n\")\n",
    "tensor[0:2,0:2]=0 #column index two not modified\n",
    "print(f\"Modified tensor: \\n{tensor}\\n\")"
   ]
  },
  {
   "cell_type": "code",
   "execution_count": 21,
   "id": "11c40988",
   "metadata": {},
   "outputs": [
    {
     "name": "stdout",
     "output_type": "stream",
     "text": [
      "Tensors concat along dimension 1: \n",
      "tensor([[0.0000, 0.0000, 0.3625, 0.6051, 0.0000, 0.0000, 0.3625, 0.6051],\n",
      "        [0.0000, 0.0000, 0.5397, 0.8334, 0.0000, 0.0000, 0.5397, 0.8334],\n",
      "        [0.9971, 0.7942, 0.7015, 0.2988, 0.9971, 0.7942, 0.7015, 0.2988],\n",
      "        [0.8001, 0.5351, 0.6911, 0.2826, 0.8001, 0.5351, 0.6911, 0.2826]])\n",
      "\n",
      "Tensors concat along dimension 0: \n",
      "tensor([[0.0000, 0.0000, 0.3625, 0.6051],\n",
      "        [0.0000, 0.0000, 0.5397, 0.8334],\n",
      "        [0.9971, 0.7942, 0.7015, 0.2988],\n",
      "        [0.8001, 0.5351, 0.6911, 0.2826],\n",
      "        [0.0000, 0.0000, 0.3625, 0.6051],\n",
      "        [0.0000, 0.0000, 0.5397, 0.8334],\n",
      "        [0.9971, 0.7942, 0.7015, 0.2988],\n",
      "        [0.8001, 0.5351, 0.6911, 0.2826]])\n",
      "\n"
     ]
    }
   ],
   "source": [
    "#Joining tensors\n",
    "\n",
    "t1 = torch.cat([tensor, tensor], dim = 1)\n",
    "print(f\"Tensors concat along dimension 1: \\n{t1}\\n\")\n",
    "\n",
    "t2 = torch.cat([tensor,tensor], dim = 0)\n",
    "print(f\"Tensors concat along dimension 0: \\n{t2}\\n\")"
   ]
  },
  {
   "cell_type": "code",
   "execution_count": 26,
   "id": "cc855a45",
   "metadata": {},
   "outputs": [
    {
     "name": "stdout",
     "output_type": "stream",
     "text": [
      "Method 1: \n",
      "tensor([[0.4976, 0.6999, 0.4351, 0.4215],\n",
      "        [0.6999, 0.9857, 0.6276, 0.6085],\n",
      "        [0.4351, 0.6276, 2.2063, 1.7920],\n",
      "        [0.4215, 0.6085, 1.7920, 1.4840]])\n",
      " Method 2: \n",
      "tensor([[0.4976, 0.6999, 0.4351, 0.4215],\n",
      "        [0.6999, 0.9857, 0.6276, 0.6085],\n",
      "        [0.4351, 0.6276, 2.2063, 1.7920],\n",
      "        [0.4215, 0.6085, 1.7920, 1.4840]])\n",
      " Method 3: \n",
      "tensor([[0.4976, 0.6999, 0.4351, 0.4215],\n",
      "        [0.6999, 0.9857, 0.6276, 0.6085],\n",
      "        [0.4351, 0.6276, 2.2063, 1.7920],\n",
      "        [0.4215, 0.6085, 1.7920, 1.4840]])\n",
      "\n"
     ]
    }
   ],
   "source": [
    "#Arithmetic: Matrix Multiplication\n",
    "\n",
    "tensor_matmul1 = tensor @ tensor.T\n",
    "#OR\n",
    "tensor_matmul2 = tensor.matmul(tensor.T) #.T is a crucial part else it will multiply a square matrix as is\n",
    "#OR\n",
    "tensor_matmul3 = torch.ones_like(tensor_matmul1) #intializing is crucial\n",
    "torch.matmul(tensor, tensor.T, out = tensor_matmul3)\n",
    "print(f\"Method 1: \\n{tensor_matmul1}\\n Method 2: \\n{tensor_matmul2}\\n Method 3: \\n{tensor_matmul3}\\n\")"
   ]
  },
  {
   "cell_type": "code",
   "execution_count": 29,
   "id": "a7c1dc22",
   "metadata": {},
   "outputs": [
    {
     "name": "stdout",
     "output_type": "stream",
     "text": [
      "Method 1: \n",
      "tensor([[0.0000, 0.0000, 0.1314, 0.3662],\n",
      "        [0.0000, 0.0000, 0.2913, 0.6945],\n",
      "        [0.9942, 0.6307, 0.4921, 0.0893],\n",
      "        [0.6401, 0.2864, 0.4776, 0.0798]])\n",
      " Method 2: \n",
      "tensor([[0.0000, 0.0000, 0.1314, 0.3662],\n",
      "        [0.0000, 0.0000, 0.2913, 0.6945],\n",
      "        [0.9942, 0.6307, 0.4921, 0.0893],\n",
      "        [0.6401, 0.2864, 0.4776, 0.0798]])\n",
      " Method 3: \n",
      "tensor([[0.0000, 0.0000, 0.1314, 0.3662],\n",
      "        [0.0000, 0.0000, 0.2913, 0.6945],\n",
      "        [0.9942, 0.6307, 0.4921, 0.0893],\n",
      "        [0.6401, 0.2864, 0.4776, 0.0798]])\n",
      "\n"
     ]
    }
   ],
   "source": [
    "#Arithmetic: Elementwise multiplication\n",
    "\n",
    "tensor_elemul1 = tensor * tensor\n",
    "#OR\n",
    "tensor_elemul2 = tensor.mul(tensor)\n",
    "#OR\n",
    "tensor_elemul3 = torch.zeros_like(tensor_elemul1)\n",
    "torch.mul(tensor, tensor, out = tensor_elemul3)\n",
    "\n",
    "print(f\"Method 1: \\n{tensor_elemul1}\\n Method 2: \\n{tensor_elemul2}\\n Method 3: \\n{tensor_elemul3}\\n\")"
   ]
  },
  {
   "cell_type": "code",
   "execution_count": 31,
   "id": "e008265f",
   "metadata": {},
   "outputs": [
    {
     "name": "stdout",
     "output_type": "stream",
     "text": [
      "tensor(7.4412) 7.441163063049316 <class 'float'>\n"
     ]
    }
   ],
   "source": [
    "#Single Element tensors \n",
    "\n",
    "agg = tensor.sum()\n",
    "agg_item = agg.item() #itmeize the tensor \n",
    "print(agg, agg_item, type(agg_item)) #type() for non array items"
   ]
  },
  {
   "cell_type": "code",
   "execution_count": 35,
   "id": "9c30cfdd",
   "metadata": {},
   "outputs": [
    {
     "name": "stdout",
     "output_type": "stream",
     "text": [
      "Original tensor: \n",
      "tensor([[5.0000, 5.0000, 5.3625, 5.6051],\n",
      "        [5.0000, 5.0000, 5.5397, 5.8334],\n",
      "        [5.9971, 5.7942, 5.7015, 5.2988],\n",
      "        [5.8001, 5.5351, 5.6911, 5.2826]])\n",
      "\n",
      "Added 5 to the tensor: \n",
      "tensor([[10.0000, 10.0000, 10.3625, 10.6051],\n",
      "        [10.0000, 10.0000, 10.5397, 10.8334],\n",
      "        [10.9971, 10.7942, 10.7015, 10.2988],\n",
      "        [10.8001, 10.5351, 10.6911, 10.2826]])\n",
      "\n"
     ]
    }
   ],
   "source": [
    "#Aritmetic: In place operations\n",
    "\n",
    "print(f\"Original tensor: \\n{tensor}\\n\")\n",
    "tensor.add_(5) #tensor.add_(num) the underscore is important\n",
    "print(f\"Added 5 to the tensor: \\n{tensor}\\n\")"
   ]
  },
  {
   "cell_type": "markdown",
   "id": "59ded8e3",
   "metadata": {},
   "source": [
    "## Tensor and Numpy"
   ]
  },
  {
   "cell_type": "code",
   "execution_count": 37,
   "id": "a0b73f83",
   "metadata": {},
   "outputs": [
    {
     "name": "stdout",
     "output_type": "stream",
     "text": [
      "Before Tensor: \n",
      "tensor([1., 1., 1., 1., 1.]) \n",
      "Before Nparray: \n",
      "[1. 1. 1. 1. 1.]\n",
      "\n",
      "After Tensor: \n",
      "tensor([2., 2., 2., 2., 2.]) \n",
      "After Nparray: \n",
      "[2. 2. 2. 2. 2.]\n",
      "\n"
     ]
    }
   ],
   "source": [
    "#From Tensor to array\n",
    "\n",
    "t = torch.ones(5)\n",
    "n = t.numpy() #converting tensor into an np array and storing in a different variable\n",
    "print(f\"Before Tensor: \\n{t} \\nBefore Nparray: \\n{n}\\n\")\n",
    "t.add_(1)\n",
    "print(f\"After Tensor: \\n{t} \\nAfter Nparray: \\n{n}\\n\")\n",
    "\n",
    "#The numpy array and tensor share the same memory space hence any change in \n",
    "#one is reflected in the other!"
   ]
  },
  {
   "cell_type": "code",
   "execution_count": 38,
   "id": "65019cd9",
   "metadata": {},
   "outputs": [
    {
     "name": "stdout",
     "output_type": "stream",
     "text": [
      "Before Nparray: \n",
      "[1. 1. 1. 1. 1.] \n",
      "Before Tensor: \n",
      "tensor([1., 1., 1., 1., 1.], dtype=torch.float64)\n",
      "\n",
      "After Nparray: \n",
      "[2. 2. 2. 2. 2.] \n",
      "After Tensor: \n",
      "tensor([2., 2., 2., 2., 2.], dtype=torch.float64)\n",
      "\n",
      "After Tensor: \n",
      "tensor([3., 3., 3., 3., 3.], dtype=torch.float64) \n",
      "After Nparray: \n",
      "[3. 3. 3. 3. 3.]\n",
      "\n"
     ]
    }
   ],
   "source": [
    "#From Np Array to Tensor\n",
    "\n",
    "n = np.ones(5)\n",
    "t = torch.from_numpy(n)\n",
    "print(f\"Before Nparray: \\n{n} \\nBefore Tensor: \\n{t}\\n\")\n",
    "np.add(n, 1, out = n)\n",
    "print(f\"After Nparray: \\n{n} \\nAfter Tensor: \\n{t}\\n\")\n",
    "\n",
    "t.add_(1)\n",
    "print(f\"After Tensor: \\n{t} \\nAfter Nparray: \\n{n}\\n\")\n",
    "\n",
    "#Works both ways!"
   ]
  },
  {
   "cell_type": "markdown",
   "id": "dbdf9059",
   "metadata": {},
   "source": [
    "## Datasets and DataLoaders"
   ]
  },
  {
   "cell_type": "code",
   "execution_count": null,
   "id": "d2eff05a",
   "metadata": {},
   "outputs": [],
   "source": []
  }
 ],
 "metadata": {
  "kernelspec": {
   "display_name": "Python 3",
   "language": "python",
   "name": "python3"
  },
  "language_info": {
   "codemirror_mode": {
    "name": "ipython",
    "version": 3
   },
   "file_extension": ".py",
   "mimetype": "text/x-python",
   "name": "python",
   "nbconvert_exporter": "python",
   "pygments_lexer": "ipython3",
   "version": "3.8.8"
  }
 },
 "nbformat": 4,
 "nbformat_minor": 5
}
