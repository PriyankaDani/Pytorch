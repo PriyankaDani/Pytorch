{
 "cells": [
  {
   "cell_type": "markdown",
   "id": "e5f0b6d8",
   "metadata": {},
   "source": [
    "## Code Reference:\n",
    "https://pytorch.org/tutorials/beginner/basics/data_tutorial.html\n",
    "https://pytorch.org/tutorials/beginner/basics/data_tutorial.html"
   ]
  },
  {
   "cell_type": "code",
   "execution_count": 1,
   "id": "080c3cf9",
   "metadata": {},
   "outputs": [
    {
     "name": "stderr",
     "output_type": "stream",
     "text": [
      "C:\\Users\\Priyanka\\anaconda3\\envs\\pytorch\\lib\\site-packages\\tqdm\\auto.py:22: TqdmWarning: IProgress not found. Please update jupyter and ipywidgets. See https://ipywidgets.readthedocs.io/en/stable/user_install.html\n",
      "  from .autonotebook import tqdm as notebook_tqdm\n"
     ]
    }
   ],
   "source": [
    "import torch\n",
    "import numpy as np"
   ]
  },
  {
   "cell_type": "markdown",
   "id": "a1d484a5",
   "metadata": {},
   "source": [
    "## Tensor Initialization"
   ]
  },
  {
   "cell_type": "code",
   "execution_count": 2,
   "id": "0d5759d6",
   "metadata": {},
   "outputs": [
    {
     "name": "stdout",
     "output_type": "stream",
     "text": [
      "data = [[1, 2], [3, 4]] \n",
      "tensor = tensor([[1, 2],\n",
      "        [3, 4]])\n"
     ]
    }
   ],
   "source": [
    "#From direct data \n",
    "\n",
    "data = [[1,2],[3,4]] #list\n",
    "tensor_data = torch.tensor(data)\n",
    "print(f\"data = {data} \\ntensor = {tensor_data}\")"
   ]
  },
  {
   "cell_type": "code",
   "execution_count": 3,
   "id": "3ccf71eb",
   "metadata": {},
   "outputs": [
    {
     "name": "stdout",
     "output_type": "stream",
     "text": [
      "np_array = [[1 2]\n",
      " [3 4]] \n",
      "tensor = tensor([[1, 2],\n",
      "        [3, 4]], dtype=torch.int32)\n"
     ]
    }
   ],
   "source": [
    "#From numpy array\n",
    "\n",
    "np_array = np.array(data)\n",
    "tensor_np = torch.from_numpy(np_array)\n",
    "print(f\"np_array = {np_array} \\ntensor = {tensor_np}\")"
   ]
  },
  {
   "cell_type": "code",
   "execution_count": 4,
   "id": "8abb3cd6",
   "metadata": {},
   "outputs": [
    {
     "name": "stdout",
     "output_type": "stream",
     "text": [
      "tensor 2 = tensor([[1, 1],\n",
      "        [1, 1]]) dtype = torch.int64 \n",
      "tensor 3 = tensor([[0.4671, 0.1727],\n",
      "        [0.6530, 0.8421]]) dtype = torch.float32\n"
     ]
    }
   ],
   "source": [
    "#From other Tensors\n",
    "\n",
    "tensor_2 = torch.ones_like(tensor_data)\n",
    "tensor_3 = torch.rand_like(tensor_data, dtype = torch.float)\n",
    "\n",
    "print(f\"tensor 2 = {tensor_2} dtype = {tensor_2.dtype} \\ntensor 3 = {tensor_3} dtype = {tensor_3.dtype}\")"
   ]
  },
  {
   "cell_type": "code",
   "execution_count": 5,
   "id": "cdc39a86",
   "metadata": {},
   "outputs": [
    {
     "name": "stdout",
     "output_type": "stream",
     "text": [
      "Random tensor: \n",
      "tensor([[0.7025, 0.1419, 0.2721],\n",
      "        [0.1701, 0.3618, 0.7869]]) \n",
      "Ones Tensor: \n",
      "tensor([[1., 1., 1.],\n",
      "        [1., 1., 1.]]) \n",
      "Zeros Tensor: \n",
      "tensor([[0., 0., 0.],\n",
      "        [0., 0., 0.]])\n",
      "\n"
     ]
    }
   ],
   "source": [
    "#Initializing tensor with random/constant values\n",
    "\n",
    "#Give shape as input in tuple form\n",
    "shape=(2,3)\n",
    "\n",
    "rand_tensor = torch.rand(shape)\n",
    "ones_tensor = torch.ones(shape)\n",
    "zeros_tensor = torch.zeros(shape)\n",
    "\n",
    "print(f\"Random tensor: \\n{rand_tensor} \\nOnes Tensor: \\n{ones_tensor} \\nZeros Tensor: \\n{zeros_tensor}\\n\")"
   ]
  },
  {
   "cell_type": "markdown",
   "id": "169a3773",
   "metadata": {},
   "source": [
    "## Tensor Attributes"
   ]
  },
  {
   "cell_type": "code",
   "execution_count": 6,
   "id": "d64c0c76",
   "metadata": {},
   "outputs": [
    {
     "name": "stdout",
     "output_type": "stream",
     "text": [
      "Shape = torch.Size([2, 3])\n",
      "Data Type = torch.float32\n",
      "On Device = cpu\n"
     ]
    }
   ],
   "source": [
    "#Shape, Device and Dtype\n",
    "\n",
    "tensor = torch.rand(2,3)\n",
    "\n",
    "print(f\"Shape = {tensor.shape}\")\n",
    "print(f\"Data Type = {tensor.dtype}\")\n",
    "print(f\"On Device = {tensor.device}\")"
   ]
  },
  {
   "cell_type": "markdown",
   "id": "72b82da0",
   "metadata": {},
   "source": [
    "## Operations on Tensors"
   ]
  },
  {
   "cell_type": "code",
   "execution_count": 7,
   "id": "2d02b230",
   "metadata": {},
   "outputs": [
    {
     "name": "stdout",
     "output_type": "stream",
     "text": [
      "Cuda available\n"
     ]
    }
   ],
   "source": [
    "#Identify the device available\n",
    "\n",
    "if torch.cuda.is_available(): \n",
    "    print(\"Cuda available\")\n",
    "    tensor = tensor.to(\"cuda\")\n",
    "    device = 'cuda'\n",
    "else:\n",
    "    print(\"Cuda Not Available\")\n",
    "    print(\"Running on cpu\")\n",
    "    device = 'cpu'\n"
   ]
  },
  {
   "cell_type": "code",
   "execution_count": 8,
   "id": "77129c00",
   "metadata": {},
   "outputs": [
    {
     "name": "stdout",
     "output_type": "stream",
     "text": [
      "Original Tensor: \n",
      "tensor([[0.8360, 0.8097, 0.1993, 0.1877],\n",
      "        [0.6774, 0.6066, 0.9775, 0.5161],\n",
      "        [0.9230, 0.0203, 0.8037, 0.8817],\n",
      "        [0.9218, 0.5419, 0.5187, 0.1815]])\n",
      "\n",
      "First Row: \n",
      "tensor([0.8360, 0.8097, 0.1993, 0.1877])\n",
      "\n",
      "First Column: \n",
      "tensor([0.8360, 0.6774, 0.9230, 0.9218])\n",
      "\n",
      "Modified tensor: \n",
      "tensor([[0.0000, 0.0000, 0.1993, 0.1877],\n",
      "        [0.0000, 0.0000, 0.9775, 0.5161],\n",
      "        [0.9230, 0.0203, 0.8037, 0.8817],\n",
      "        [0.9218, 0.5419, 0.5187, 0.1815]])\n",
      "\n"
     ]
    }
   ],
   "source": [
    "#Standard indexing and slicing\n",
    "\n",
    "tensor = torch.rand(4,4)\n",
    "print(f\"Original Tensor: \\n{tensor}\\n\")\n",
    "\n",
    "print(f\"First Row: \\n{tensor[0,:]}\\n\")\n",
    "print(f\"First Column: \\n{tensor[:,0]}\\n\")\n",
    "tensor[0:2,0:2]=0 #column index two not modified\n",
    "print(f\"Modified tensor: \\n{tensor}\\n\")"
   ]
  },
  {
   "cell_type": "code",
   "execution_count": 9,
   "id": "11c40988",
   "metadata": {},
   "outputs": [
    {
     "name": "stdout",
     "output_type": "stream",
     "text": [
      "Tensors concat along dimension 1: \n",
      "tensor([[0.0000, 0.0000, 0.1993, 0.1877, 0.0000, 0.0000, 0.1993, 0.1877],\n",
      "        [0.0000, 0.0000, 0.9775, 0.5161, 0.0000, 0.0000, 0.9775, 0.5161],\n",
      "        [0.9230, 0.0203, 0.8037, 0.8817, 0.9230, 0.0203, 0.8037, 0.8817],\n",
      "        [0.9218, 0.5419, 0.5187, 0.1815, 0.9218, 0.5419, 0.5187, 0.1815]])\n",
      "\n",
      "Tensors concat along dimension 0: \n",
      "tensor([[0.0000, 0.0000, 0.1993, 0.1877],\n",
      "        [0.0000, 0.0000, 0.9775, 0.5161],\n",
      "        [0.9230, 0.0203, 0.8037, 0.8817],\n",
      "        [0.9218, 0.5419, 0.5187, 0.1815],\n",
      "        [0.0000, 0.0000, 0.1993, 0.1877],\n",
      "        [0.0000, 0.0000, 0.9775, 0.5161],\n",
      "        [0.9230, 0.0203, 0.8037, 0.8817],\n",
      "        [0.9218, 0.5419, 0.5187, 0.1815]])\n",
      "\n"
     ]
    }
   ],
   "source": [
    "#Joining tensors\n",
    "\n",
    "t1 = torch.cat([tensor, tensor], dim = 1)\n",
    "print(f\"Tensors concat along dimension 1: \\n{t1}\\n\")\n",
    "\n",
    "t2 = torch.cat([tensor,tensor], dim = 0)\n",
    "print(f\"Tensors concat along dimension 0: \\n{t2}\\n\")"
   ]
  },
  {
   "cell_type": "code",
   "execution_count": 10,
   "id": "cc855a45",
   "metadata": {},
   "outputs": [
    {
     "name": "stdout",
     "output_type": "stream",
     "text": [
      "Method 1: \n",
      "tensor([[0.0750, 0.2917, 0.3257, 0.1375],\n",
      "        [0.2917, 1.2218, 1.2406, 0.6006],\n",
      "        [0.3257, 1.2406, 2.2756, 1.4386],\n",
      "        [0.1375, 0.6006, 1.4386, 1.4453]])\n",
      " Method 2: \n",
      "tensor([[0.0750, 0.2917, 0.3257, 0.1375],\n",
      "        [0.2917, 1.2218, 1.2406, 0.6006],\n",
      "        [0.3257, 1.2406, 2.2756, 1.4386],\n",
      "        [0.1375, 0.6006, 1.4386, 1.4453]])\n",
      " Method 3: \n",
      "tensor([[0.0750, 0.2917, 0.3257, 0.1375],\n",
      "        [0.2917, 1.2218, 1.2406, 0.6006],\n",
      "        [0.3257, 1.2406, 2.2756, 1.4386],\n",
      "        [0.1375, 0.6006, 1.4386, 1.4453]])\n",
      "\n"
     ]
    }
   ],
   "source": [
    "#Arithmetic: Matrix Multiplication\n",
    "\n",
    "tensor_matmul1 = tensor @ tensor.T\n",
    "#OR\n",
    "tensor_matmul2 = tensor.matmul(tensor.T) #.T is a crucial part else it will multiply a square matrix as is\n",
    "#OR\n",
    "tensor_matmul3 = torch.ones_like(tensor_matmul1) #intializing is crucial\n",
    "torch.matmul(tensor, tensor.T, out = tensor_matmul3)\n",
    "print(f\"Method 1: \\n{tensor_matmul1}\\n Method 2: \\n{tensor_matmul2}\\n Method 3: \\n{tensor_matmul3}\\n\")"
   ]
  },
  {
   "cell_type": "code",
   "execution_count": 11,
   "id": "a7c1dc22",
   "metadata": {},
   "outputs": [
    {
     "name": "stdout",
     "output_type": "stream",
     "text": [
      "Method 1: \n",
      "tensor([[0.0000e+00, 0.0000e+00, 3.9737e-02, 3.5239e-02],\n",
      "        [0.0000e+00, 0.0000e+00, 9.5547e-01, 2.6634e-01],\n",
      "        [8.5186e-01, 4.1085e-04, 6.4593e-01, 7.7735e-01],\n",
      "        [8.4974e-01, 2.9366e-01, 2.6900e-01, 3.2926e-02]])\n",
      " Method 2: \n",
      "tensor([[0.0000e+00, 0.0000e+00, 3.9737e-02, 3.5239e-02],\n",
      "        [0.0000e+00, 0.0000e+00, 9.5547e-01, 2.6634e-01],\n",
      "        [8.5186e-01, 4.1085e-04, 6.4593e-01, 7.7735e-01],\n",
      "        [8.4974e-01, 2.9366e-01, 2.6900e-01, 3.2926e-02]])\n",
      " Method 3: \n",
      "tensor([[0.0000e+00, 0.0000e+00, 3.9737e-02, 3.5239e-02],\n",
      "        [0.0000e+00, 0.0000e+00, 9.5547e-01, 2.6634e-01],\n",
      "        [8.5186e-01, 4.1085e-04, 6.4593e-01, 7.7735e-01],\n",
      "        [8.4974e-01, 2.9366e-01, 2.6900e-01, 3.2926e-02]])\n",
      "\n"
     ]
    }
   ],
   "source": [
    "#Arithmetic: Elementwise multiplication\n",
    "\n",
    "tensor_elemul1 = tensor * tensor\n",
    "#OR\n",
    "tensor_elemul2 = tensor.mul(tensor)\n",
    "#OR\n",
    "tensor_elemul3 = torch.zeros_like(tensor_elemul1)\n",
    "torch.mul(tensor, tensor, out = tensor_elemul3)\n",
    "\n",
    "print(f\"Method 1: \\n{tensor_elemul1}\\n Method 2: \\n{tensor_elemul2}\\n Method 3: \\n{tensor_elemul3}\\n\")"
   ]
  },
  {
   "cell_type": "code",
   "execution_count": 12,
   "id": "e008265f",
   "metadata": {},
   "outputs": [
    {
     "name": "stdout",
     "output_type": "stream",
     "text": [
      "tensor(6.6731) 6.673055648803711 <class 'float'>\n"
     ]
    }
   ],
   "source": [
    "#Single Element tensors \n",
    "\n",
    "agg = tensor.sum()\n",
    "agg_item = agg.item() #itmeize the tensor \n",
    "print(agg, agg_item, type(agg_item)) #type() for non array items"
   ]
  },
  {
   "cell_type": "code",
   "execution_count": 13,
   "id": "9c30cfdd",
   "metadata": {},
   "outputs": [
    {
     "name": "stdout",
     "output_type": "stream",
     "text": [
      "Original tensor: \n",
      "tensor([[0.0000, 0.0000, 0.1993, 0.1877],\n",
      "        [0.0000, 0.0000, 0.9775, 0.5161],\n",
      "        [0.9230, 0.0203, 0.8037, 0.8817],\n",
      "        [0.9218, 0.5419, 0.5187, 0.1815]])\n",
      "\n",
      "Added 5 to the tensor: \n",
      "tensor([[5.0000, 5.0000, 5.1993, 5.1877],\n",
      "        [5.0000, 5.0000, 5.9775, 5.5161],\n",
      "        [5.9230, 5.0203, 5.8037, 5.8817],\n",
      "        [5.9218, 5.5419, 5.5187, 5.1815]])\n",
      "\n"
     ]
    }
   ],
   "source": [
    "#Aritmetic: In place operations\n",
    "\n",
    "print(f\"Original tensor: \\n{tensor}\\n\")\n",
    "tensor.add_(5) #tensor.add_(num) the underscore is important\n",
    "print(f\"Added 5 to the tensor: \\n{tensor}\\n\")"
   ]
  },
  {
   "cell_type": "markdown",
   "id": "59ded8e3",
   "metadata": {},
   "source": [
    "## Tensor and Numpy"
   ]
  },
  {
   "cell_type": "code",
   "execution_count": 14,
   "id": "a0b73f83",
   "metadata": {},
   "outputs": [
    {
     "name": "stdout",
     "output_type": "stream",
     "text": [
      "Before Tensor: \n",
      "tensor([1., 1., 1., 1., 1.]) \n",
      "Before Nparray: \n",
      "[1. 1. 1. 1. 1.]\n",
      "\n",
      "After Tensor: \n",
      "tensor([2., 2., 2., 2., 2.]) \n",
      "After Nparray: \n",
      "[2. 2. 2. 2. 2.]\n",
      "\n"
     ]
    }
   ],
   "source": [
    "#From Tensor to array\n",
    "\n",
    "t = torch.ones(5)\n",
    "n = t.numpy() #converting tensor into an np array and storing in a different variable\n",
    "print(f\"Before Tensor: \\n{t} \\nBefore Nparray: \\n{n}\\n\")\n",
    "t.add_(1)\n",
    "print(f\"After Tensor: \\n{t} \\nAfter Nparray: \\n{n}\\n\")\n",
    "\n",
    "#The numpy array and tensor share the same memory space hence any change in \n",
    "#one is reflected in the other!"
   ]
  },
  {
   "cell_type": "code",
   "execution_count": 15,
   "id": "65019cd9",
   "metadata": {},
   "outputs": [
    {
     "name": "stdout",
     "output_type": "stream",
     "text": [
      "Before Nparray: \n",
      "[1. 1. 1. 1. 1.] \n",
      "Before Tensor: \n",
      "tensor([1., 1., 1., 1., 1.], dtype=torch.float64)\n",
      "\n",
      "After Nparray: \n",
      "[2. 2. 2. 2. 2.] \n",
      "After Tensor: \n",
      "tensor([2., 2., 2., 2., 2.], dtype=torch.float64)\n",
      "\n",
      "After Tensor: \n",
      "tensor([3., 3., 3., 3., 3.], dtype=torch.float64) \n",
      "After Nparray: \n",
      "[3. 3. 3. 3. 3.]\n",
      "\n"
     ]
    }
   ],
   "source": [
    "#From Np Array to Tensor\n",
    "\n",
    "n = np.ones(5)\n",
    "t = torch.from_numpy(n)\n",
    "print(f\"Before Nparray: \\n{n} \\nBefore Tensor: \\n{t}\\n\")\n",
    "np.add(n, 1, out = n)\n",
    "print(f\"After Nparray: \\n{n} \\nAfter Tensor: \\n{t}\\n\")\n",
    "\n",
    "t.add_(1)\n",
    "print(f\"After Tensor: \\n{t} \\nAfter Nparray: \\n{n}\\n\")\n",
    "\n",
    "#Works both ways!"
   ]
  },
  {
   "cell_type": "markdown",
   "id": "dbdf9059",
   "metadata": {},
   "source": [
    "## Datasets and DataLoaders"
   ]
  },
  {
   "cell_type": "code",
   "execution_count": 39,
   "id": "d2eff05a",
   "metadata": {},
   "outputs": [],
   "source": [
    "#import torch\n",
    "#import numpy as np\n",
    "from torch.utils.data import Dataset\n",
    "from torch.utils.data import DataLoader\n",
    "from torchvision import datasets\n",
    "from torchvision.transforms import ToTensor"
   ]
  },
  {
   "cell_type": "code",
   "execution_count": 23,
   "id": "f31ac86e",
   "metadata": {},
   "outputs": [
    {
     "name": "stdout",
     "output_type": "stream",
     "text": [
      "Downloading https://www.cs.toronto.edu/~kriz/cifar-10-python.tar.gz to data_Cifar10\\cifar-10-python.tar.gz\n"
     ]
    },
    {
     "name": "stderr",
     "output_type": "stream",
     "text": [
      "170500096it [01:38, 1731922.00it/s]                                                                                    \n"
     ]
    },
    {
     "name": "stdout",
     "output_type": "stream",
     "text": [
      "Extracting data_Cifar10\\cifar-10-python.tar.gz to data_Cifar10\n",
      "Files already downloaded and verified\n"
     ]
    }
   ],
   "source": [
    "#Importing form a pre available data set GTSRB\n",
    "\n",
    "#dir(datasets) #to check the available datasets\n",
    "\n",
    "#CIFAR10: 60000 images of size 32X32 split into 50000 train and 10000 test \n",
    "#images. 5 training batches of 10000 each. 1000 rnadomly selected images from \n",
    "#each class constitute the test dataset. \n",
    "#https://www.cs.toronto.edu/~kriz/cifar.html\n",
    "\n",
    "\n",
    "training_data = datasets.CIFAR10(root = 'data_Cifar10',\n",
    "                              train = True,\n",
    "                              download = True,\n",
    "                              transform = ToTensor()\n",
    "                              )\n",
    "\n",
    "testing_data = datasets.CIFAR10(root = 'data_Cifar10',\n",
    "                             train = False,\n",
    "                             download = True,\n",
    "                             transform = ToTensor()\n",
    "                             )"
   ]
  },
  {
   "cell_type": "code",
   "execution_count": 33,
   "id": "b839fe5a",
   "metadata": {},
   "outputs": [
    {
     "data": {
      "text/plain": [
       "<function matplotlib.pyplot.show(*args, **kw)>"
      ]
     },
     "execution_count": 33,
     "metadata": {},
     "output_type": "execute_result"
    },
    {
     "data": {
      "image/png": "[encoded data removed]",
      "text/plain": [
       "<Figure size 576x576 with 9 Axes>"
      ]
     },
     "metadata": {
      "needs_background": "light"
     },
     "output_type": "display_data"
    }
   ],
   "source": [
    "#Visualizing using matpltlib\n",
    "\n",
    "import matplotlib.pyplot as plt\n",
    "\n",
    "labels_map = {\n",
    "    0: 'Airplane',\n",
    "    1: 'Automobile',\n",
    "    2: 'Bird',\n",
    "    3: 'Cat',\n",
    "    4: 'Deer',\n",
    "    5: 'Dog',\n",
    "    6: 'Frog',\n",
    "    7: 'Horse',\n",
    "    8: 'Ship',\n",
    "    9: 'Truck'\n",
    "}\n",
    "\n",
    "figure = plt.figure(figsize = (8, 8))\n",
    "cols, rows = 3, 3\n",
    "for i in range(1, cols*rows+1):\n",
    "    sample_idx = torch.randint(len(training_data), size = (1, )).item()\n",
    "    img, label = training_data[sample_idx]\n",
    "    img = img.numpy()\n",
    "    img = np.transpose(img,(1, 2, 0)) #rolls the axis and gets the transpose\n",
    "    #this is essential as Cifar images are in form (3 32 32)\n",
    "    #we need them to be in (32, 32, 3) to display\n",
    "    img = torch.from_numpy(img)\n",
    "    figure.add_subplot(rows, cols, i)\n",
    "    plt.title(labels_map[label])\n",
    "    plt.axis('off')\n",
    "    plt.imshow(img.squeeze(), cmap = 'gray')\n",
    "plt.show\n"
   ]
  },
  {
   "cell_type": "code",
   "execution_count": 38,
   "id": "b57c758c",
   "metadata": {},
   "outputs": [],
   "source": [
    "#Creating my own dataset\n",
    "\n",
    "#NEED TO CHECK \n",
    "\n",
    "import os\n",
    "import pandas as pd\n",
    "from torchvision.io import read_image\n",
    "\n",
    "class CustomDataset(Dataset):\n",
    "    def __init__(self, annotations_file, img_dir, transform = None, target_tansform = None):\n",
    "        self.img_labels = pd.read_csv(annotations_file)\n",
    "        self.img_dir = img_dir\n",
    "        self.transform = transform\n",
    "        self.target_transform = target_transform\n",
    "        \n",
    "    def __len__(self):\n",
    "        return len(self.img_labels)\n",
    "    \n",
    "    def __getitem__(self, idx):\n",
    "        img_path = os.path.join(seld.img_dir, self.img_labels.iloc[idx, 0])\n",
    "        image = read_image(img_path)\n",
    "        label =self.img_labels.iloc[idx, 1]\n",
    "        if self.transform:\n",
    "            image = self.transform(image)\n",
    "        if self.target_transform:\n",
    "            label = self.target_transform(label)\n",
    "        return image, label"
   ]
  },
  {
   "cell_type": "code",
   "execution_count": 47,
   "id": "ed07bce0",
   "metadata": {},
   "outputs": [
    {
     "name": "stdout",
     "output_type": "stream",
     "text": [
      "Training feature shape: torch.Size([60, 3, 32, 32])\n",
      "Training flabels shape: torch.Size([60])\n"
     ]
    },
    {
     "data": {
      "image/png": "[encoded data removed]",
      "text/plain": [
       "<Figure size 432x288 with 1 Axes>"
      ]
     },
     "metadata": {
      "needs_background": "light"
     },
     "output_type": "display_data"
    },
    {
     "name": "stdout",
     "output_type": "stream",
     "text": [
      "Label: Truck\n"
     ]
    }
   ],
   "source": [
    "#Dataloader\n",
    "\n",
    "training_dataloader = DataLoader(training_data, batch_size = 60, shuffle = True)\n",
    "test_dataloader =DataLoader(testing_data, batch_size = 60, shuffle = True)\n",
    "\n",
    "train_features, train_labels = next(iter(training_dataloader))\n",
    "print(f\"Training feature shape: {train_features.shape}\")\n",
    "print(f\"Training flabels shape: {train_labels.shape}\")\n",
    "\n",
    "img = torch.from_numpy(np.transpose(train_features[0].numpy(),(1, 2, 0))).squeeze()\n",
    "label = train_labels[0].item()\n",
    "plt.imshow(img, cmap = 'gray')\n",
    "plt.show()\n",
    "print(f\"Label: {labels_map[label]}\")"
   ]
  },
  {
   "cell_type": "code",
   "execution_count": null,
   "id": "e90e58c0",
   "metadata": {},
   "outputs": [],
   "source": []
  }
 ],
 "metadata": {
  "kernelspec": {
   "display_name": "Python 3 (ipykernel)",
   "language": "python",
   "name": "python3"
  },
  "language_info": {
   "codemirror_mode": {
    "name": "ipython",
    "version": 3
   },
   "file_extension": ".py",
   "mimetype": "text/x-python",
   "name": "python",
   "nbconvert_exporter": "python",
   "pygments_lexer": "ipython3",
   "version": "3.7.13"
  }
 },
 "nbformat": 4,
 "nbformat_minor": 5
}
