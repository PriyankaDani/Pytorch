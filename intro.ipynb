{
 "cells": [
  {
   "cell_type": "code",
   "execution_count": 1,
   "metadata": {},
   "outputs": [],
   "source": [
    "%matplotlib inline"
   ]
  },
  {
   "cell_type": "markdown",
   "metadata": {},
   "source": [
    "\n",
    "**Learn the Basics** ||\n",
    "`Quickstart <quickstart_tutorial.html>`_ ||\n",
    "`Tensors <tensorqs_tutorial.html>`_ ||\n",
    "`Datasets & DataLoaders <data_tutorial.html>`_ ||\n",
    "`Transforms <transforms_tutorial.html>`_ ||\n",
    "`Build Model <buildmodel_tutorial.html>`_ ||\n",
    "`Autograd <autogradqs_tutorial.html>`_ ||\n",
    "`Optimization <optimization_tutorial.html>`_ ||\n",
    "`Save & Load Model <saveloadrun_tutorial.html>`_\n",
    "\n",
    "Learn the Basics\n",
    "===================\n",
    "\n",
    "Authors:\n",
    "`Suraj Subramanian <https://github.com/suraj813>`_,\n",
    "`Seth Juarez <https://github.com/sethjuarez/>`_,\n",
    "`Cassie Breviu <https://github.com/cassieview/>`_,\n",
    "`Dmitry Soshnikov <https://soshnikov.com/>`_,\n",
    "`Ari Bornstein <https://github.com/aribornstein/>`_\n",
    "\n",
    "Most machine learning workflows involve working with data, creating models, optimizing model\n",
    "parameters, and saving the trained models. This tutorial introduces you to a complete ML workflow\n",
    "implemented in PyTorch, with links to learn more about each of these concepts.\n",
    "\n",
    "We'll use the FashionMNIST dataset to train a neural network that predicts if an input image belongs\n",
    "to one of the following classes: T-shirt/top, Trouser, Pullover, Dress, Coat, Sandal, Shirt, Sneaker,\n",
    "Bag, or Ankle boot.\n",
    "\n",
    "`This tutorial assumes a basic familiarity with Python and Deep Learning concepts.`\n",
    "\n",
    "\n",
    "Running the Tutorial Code\n",
    "------------------\n",
    "You can run this tutorial in a couple of ways:\n",
    "\n",
    "- **In the cloud**: This is the easiest way to get started! Each section has a \"Run in Microsoft Learn\" link at the top, which opens an integrated notebook in Microsoft Learn with the code in a fully-hosted environment.\n",
    "- **Locally**: This option requires you to setup PyTorch and TorchVision first on your local machine (`installation instructions <https://pytorch.org/get-started/locally/>`_). Download the notebook or copy the code into your favorite IDE.\n",
    "\n",
    "\n",
    "How to Use this Guide\n",
    "-----------------\n",
    "If you're familiar with other deep learning frameworks, check out the `0. Quickstart <quickstart_tutorial.html>`_ first\n",
    "to quickly familiarize yourself with PyTorch's API.\n",
    "\n",
    "If you're new to deep learning frameworks, head right into the first section of our step-by-step guide: `1. Tensors <tensor_tutorial.html>`_.\n",
    "\n",
    "\n",
    ".. include:: /beginner_source/basics/qs_toc.txt\n",
    "\n",
    ".. toctree::\n",
    "   :hidden:\n"
   ]
  },
  {
   "cell_type": "code",
   "execution_count": 4,
   "metadata": {},
   "outputs": [],
   "source": [
    "import torch \n",
    "from torch import nn\n",
    "from torch.utils.data import DataLoader\n",
    "from torchvision import datasets\n",
    "from torchvision.transforms import ToTensor"
   ]
  },
  {
   "cell_type": "code",
   "execution_count": 5,
   "metadata": {},
   "outputs": [
    {
     "name": "stdout",
     "output_type": "stream",
     "text": [
      "Downloading http://fashion-mnist.s3-website.eu-central-1.amazonaws.com/train-images-idx3-ubyte.gz\n",
      "Downloading http://fashion-mnist.s3-website.eu-central-1.amazonaws.com/train-images-idx3-ubyte.gz to data\\FashionMNIST\\raw\\train-images-idx3-ubyte.gz\n"
     ]
    },
    {
     "data": {
      "application/vnd.jupyter.widget-view+json": {
       "model_id": "68d473caf6d741fc9ba6861a371a0da9",
       "version_major": 2,
       "version_minor": 0
      },
      "text/plain": [
       "  0%|          | 0/26421880 [00:00<?, ?it/s]"
      ]
     },
     "metadata": {},
     "output_type": "display_data"
    },
    {
     "name": "stdout",
     "output_type": "stream",
     "text": [
      "Extracting data\\FashionMNIST\\raw\\train-images-idx3-ubyte.gz to data\\FashionMNIST\\raw\n",
      "\n",
      "Downloading http://fashion-mnist.s3-website.eu-central-1.amazonaws.com/train-labels-idx1-ubyte.gz\n",
      "Downloading http://fashion-mnist.s3-website.eu-central-1.amazonaws.com/train-labels-idx1-ubyte.gz to data\\FashionMNIST\\raw\\train-labels-idx1-ubyte.gz\n"
     ]
    },
    {
     "data": {
      "application/vnd.jupyter.widget-view+json": {
       "model_id": "672eaec0de1f4f61b96e3b3f4a99e07e",
       "version_major": 2,
       "version_minor": 0
      },
      "text/plain": [
       "  0%|          | 0/29515 [00:00<?, ?it/s]"
      ]
     },
     "metadata": {},
     "output_type": "display_data"
    },
    {
     "name": "stdout",
     "output_type": "stream",
     "text": [
      "Extracting data\\FashionMNIST\\raw\\train-labels-idx1-ubyte.gz to data\\FashionMNIST\\raw\n",
      "\n",
      "Downloading http://fashion-mnist.s3-website.eu-central-1.amazonaws.com/t10k-images-idx3-ubyte.gz\n",
      "Downloading http://fashion-mnist.s3-website.eu-central-1.amazonaws.com/t10k-images-idx3-ubyte.gz to data\\FashionMNIST\\raw\\t10k-images-idx3-ubyte.gz\n"
     ]
    },
    {
     "data": {
      "application/vnd.jupyter.widget-view+json": {
       "model_id": "d14a1c674c6940ffb20e99e80d2f2269",
       "version_major": 2,
       "version_minor": 0
      },
      "text/plain": [
       "  0%|          | 0/4422102 [00:00<?, ?it/s]"
      ]
     },
     "metadata": {},
     "output_type": "display_data"
    },
    {
     "name": "stdout",
     "output_type": "stream",
     "text": [
      "Extracting data\\FashionMNIST\\raw\\t10k-images-idx3-ubyte.gz to data\\FashionMNIST\\raw\n",
      "\n",
      "Downloading http://fashion-mnist.s3-website.eu-central-1.amazonaws.com/t10k-labels-idx1-ubyte.gz\n",
      "Downloading http://fashion-mnist.s3-website.eu-central-1.amazonaws.com/t10k-labels-idx1-ubyte.gz to data\\FashionMNIST\\raw\\t10k-labels-idx1-ubyte.gz\n"
     ]
    },
    {
     "data": {
      "application/vnd.jupyter.widget-view+json": {
       "model_id": "1c8993f0521a4e989e1b853e121fdb64",
       "version_major": 2,
       "version_minor": 0
      },
      "text/plain": [
       "  0%|          | 0/5148 [00:00<?, ?it/s]"
      ]
     },
     "metadata": {},
     "output_type": "display_data"
    },
    {
     "name": "stdout",
     "output_type": "stream",
     "text": [
      "Extracting data\\FashionMNIST\\raw\\t10k-labels-idx1-ubyte.gz to data\\FashionMNIST\\raw\n",
      "\n"
     ]
    }
   ],
   "source": [
    "#Downloading the data\n",
    "training_data = datasets.FashionMNIST(root='data', train=True, download=True, transform=ToTensor())"
   ]
  },
  {
   "cell_type": "code",
   "execution_count": 6,
   "metadata": {},
   "outputs": [],
   "source": [
    "testing_data=datasets.FashionMNIST(root='data', train=False, download=True, transform=ToTensor())"
   ]
  },
  {
   "cell_type": "code",
   "execution_count": 7,
   "metadata": {},
   "outputs": [],
   "source": [
    "#Using data loader to handle shuffling, batching \n",
    "train_dataloader=DataLoader(training_data, batch_size=64)\n",
    "test_dataloader=DataLoader(testing_data, batch_size=64)\n",
    "\n",
    "#train and test dataloaders will be a set of X, Y values. X and Y themselves can be of higher dimensions.\n",
    "#In one batch there will be 64 X,Y values "
   ]
  },
  {
   "cell_type": "code",
   "execution_count": 9,
   "metadata": {},
   "outputs": [
    {
     "name": "stdout",
     "output_type": "stream",
     "text": [
      "The device available is cpu\n",
      "NeuralNetwork(\n",
      "  (flatten): Flatten(start_dim=1, end_dim=-1)\n",
      "  (linear_relu_stack): Sequential(\n",
      "    (0): Linear(in_features=784, out_features=512, bias=True)\n",
      "    (1): ReLU()\n",
      "    (2): Linear(in_features=512, out_features=512, bias=True)\n",
      "    (3): ReLU()\n",
      "    (4): Linear(in_features=512, out_features=10, bias=True)\n",
      "  )\n",
      ")\n"
     ]
    }
   ],
   "source": [
    "#checking the available device GPU or CPU\n",
    "device = \"cuda\" if torch.cuda.is_available() else \"cpu\" #no capitalization of cpu else error\n",
    "print(f\"The device available is {device}\")\n",
    "\n",
    "#creating the neural network class\n",
    "class NeuralNetwork(nn.Module):\n",
    "    def __init__(self):\n",
    "        super(NeuralNetwork, self).__init__()\n",
    "        self.flatten = nn.Flatten()\n",
    "        self.linear_relu_stack = nn.Sequential(\n",
    "        nn.Linear(28*28, 512),\n",
    "        nn.ReLU(),\n",
    "        nn.Linear(512, 512),\n",
    "        nn.ReLU(),\n",
    "        nn.Linear(512,10)\n",
    "        )\n",
    "    def forward(self,x):\n",
    "        x = self.flatten(x)\n",
    "        logits = self.linear_relu_stack(x)\n",
    "        return logits\n",
    "\n",
    "model = NeuralNetwork().to(device)\n",
    "print(model)"
   ]
  },
  {
   "cell_type": "code",
   "execution_count": 10,
   "metadata": {},
   "outputs": [],
   "source": [
    "# Defining the loss function and the optimizer\n",
    "loss_fn = nn.CrossEntropyLoss()\n",
    "optimizer = torch.optim.SGD(model.parameters(), lr = 1e-3)"
   ]
  },
  {
   "cell_type": "code",
   "execution_count": 17,
   "metadata": {},
   "outputs": [],
   "source": [
    "def train(dataloader, model, loss_fn, optimizer):\n",
    "    size = len(dataloader.dataset)\n",
    "    model.train()\n",
    "    for batch, (X,y) in enumerate(dataloader):\n",
    "        X, y = X.to(device), y.to(device)\n",
    "    \n",
    "        #Computing prediction error\n",
    "        pred = model(X)\n",
    "        loss= loss_fn(pred, y)\n",
    "        \n",
    "        #Backpropogating\n",
    "        optimizer.zero_grad()\n",
    "        loss.backward()\n",
    "        optimizer.step()\n",
    "    \n",
    "        #For printing\n",
    "        if batch % 100 == 0:\n",
    "            loss, current = loss.item(), batch * len(X)\n",
    "            print(f\"loss: {loss:>7f} [{current:>5d}/{size:>5d}]\")\n"
   ]
  },
  {
   "cell_type": "code",
   "execution_count": 18,
   "metadata": {},
   "outputs": [],
   "source": [
    "def test(dataloader, model, loss_fn):\n",
    "    size = len(dataloader.dataset)\n",
    "    num_batches = len(dataloader)\n",
    "    model.eval()\n",
    "    test_loss, correct = 0, 0\n",
    "    \n",
    "    with torch.no_grad():\n",
    "        for X, y in dataloader:\n",
    "            X, y = X.to(device), y.to(device)\n",
    "            \n",
    "            #Calculate the prediction\n",
    "            pred = model(X)\n",
    "            \n",
    "            #Find the error \n",
    "            test_loss += loss_fn(pred, y).item()\n",
    "            correct += (pred.argmax(1) == y).type(torch.float).sum().item()\n",
    "            \n",
    "    #Total loss and accuracy\n",
    "    test_loss /=num_batches\n",
    "    correct /=size\n",
    "    print(f\"Test Error: \\n Accuracy: {(100*correct):>0.1f}%, Avg Loss: {test_loss:>8f} \\n\")"
   ]
  },
  {
   "cell_type": "code",
   "execution_count": 19,
   "metadata": {},
   "outputs": [
    {
     "name": "stdout",
     "output_type": "stream",
     "text": [
      "Epoch 1\n",
      " --------------------------------\n",
      "loss: 2.305685 [    0/60000]\n",
      "loss: 2.293330 [ 6400/60000]\n",
      "loss: 2.277410 [12800/60000]\n",
      "loss: 2.274130 [19200/60000]\n",
      "loss: 2.262797 [25600/60000]\n",
      "loss: 2.227033 [32000/60000]\n",
      "loss: 2.238768 [38400/60000]\n",
      "loss: 2.211968 [44800/60000]\n",
      "loss: 2.213412 [51200/60000]\n",
      "loss: 2.178010 [57600/60000]\n",
      "Test Error: \n",
      " Accuracy: 38.3%, Avg Loss: 2.182355 \n",
      "\n",
      "Epoch 2\n",
      " --------------------------------\n",
      "loss: 2.196737 [    0/60000]\n",
      "loss: 2.184160 [ 6400/60000]\n",
      "loss: 2.142766 [12800/60000]\n",
      "loss: 2.152839 [19200/60000]\n",
      "loss: 2.114904 [25600/60000]\n",
      "loss: 2.054396 [32000/60000]\n",
      "loss: 2.080985 [38400/60000]\n",
      "loss: 2.018755 [44800/60000]\n",
      "loss: 2.027133 [51200/60000]\n",
      "loss: 1.950070 [57600/60000]\n",
      "Test Error: \n",
      " Accuracy: 57.9%, Avg Loss: 1.958541 \n",
      "\n",
      "Epoch 3\n",
      " --------------------------------\n",
      "loss: 1.992244 [    0/60000]\n",
      "loss: 1.958552 [ 6400/60000]\n",
      "loss: 1.869397 [12800/60000]\n",
      "loss: 1.894480 [19200/60000]\n",
      "loss: 1.796632 [25600/60000]\n",
      "loss: 1.740684 [32000/60000]\n",
      "loss: 1.753749 [38400/60000]\n",
      "loss: 1.666067 [44800/60000]\n",
      "loss: 1.682823 [51200/60000]\n",
      "loss: 1.566858 [57600/60000]\n",
      "Test Error: \n",
      " Accuracy: 61.5%, Avg Loss: 1.592802 \n",
      "\n",
      "Epoch 4\n",
      " --------------------------------\n",
      "loss: 1.658570 [    0/60000]\n",
      "loss: 1.611053 [ 6400/60000]\n",
      "loss: 1.482561 [12800/60000]\n",
      "loss: 1.533219 [19200/60000]\n",
      "loss: 1.415010 [25600/60000]\n",
      "loss: 1.406732 [32000/60000]\n",
      "loss: 1.409133 [38400/60000]\n",
      "loss: 1.342789 [44800/60000]\n",
      "loss: 1.366924 [51200/60000]\n",
      "loss: 1.258653 [57600/60000]\n",
      "Test Error: \n",
      " Accuracy: 63.1%, Avg Loss: 1.291462 \n",
      "\n",
      "Epoch 5\n",
      " --------------------------------\n",
      "loss: 1.372364 [    0/60000]\n",
      "loss: 1.343805 [ 6400/60000]\n",
      "loss: 1.192377 [12800/60000]\n",
      "loss: 1.278849 [19200/60000]\n",
      "loss: 1.154235 [25600/60000]\n",
      "loss: 1.182056 [32000/60000]\n",
      "loss: 1.194428 [38400/60000]\n",
      "loss: 1.140436 [44800/60000]\n",
      "loss: 1.168003 [51200/60000]\n",
      "loss: 1.084066 [57600/60000]\n",
      "Test Error: \n",
      " Accuracy: 64.8%, Avg Loss: 1.107449 \n",
      "\n",
      "Done!\n"
     ]
    }
   ],
   "source": [
    "epochs =  5 #the model will go through the entire datset 5 times\n",
    "\n",
    "for t in range(epochs):\n",
    "    print(f\"Epoch {t+1}\\n --------------------------------\")\n",
    "    train(train_dataloader, model, loss_fn, optimizer)\n",
    "    test(test_dataloader, model, loss_fn)\n",
    "print(\"Done!\")"
   ]
  },
  {
   "cell_type": "code",
   "execution_count": 22,
   "metadata": {},
   "outputs": [
    {
     "name": "stdout",
     "output_type": "stream",
     "text": [
      "Saved the file!\n"
     ]
    }
   ],
   "source": [
    "#Saving the model\n",
    "#Save the internal parameters as dictionary\n",
    "#The model is save in model.pth ??\n",
    "\n",
    "torch.save(model.state_dict(), \"model.pth\")\n",
    "print(\"Saved the file!\")"
   ]
  },
  {
   "cell_type": "code",
   "execution_count": 23,
   "metadata": {},
   "outputs": [
    {
     "data": {
      "text/plain": [
       "<All keys matched successfully>"
      ]
     },
     "execution_count": 23,
     "metadata": {},
     "output_type": "execute_result"
    }
   ],
   "source": [
    "#Loading the model\n",
    "\n",
    "model = NeuralNetwork()\n",
    "model.load_state_dict(torch.load(\"model.pth\"))"
   ]
  },
  {
   "cell_type": "code",
   "execution_count": 29,
   "metadata": {},
   "outputs": [
    {
     "name": "stdout",
     "output_type": "stream",
     "text": [
      "Predicted: e, Actual: e\n"
     ]
    }
   ],
   "source": [
    "classes = [\"a\", \"b\", \"c\", \"d\", \"e\", \"f\", \"g\", \"h\", \"i\", \"j\"]\n",
    "\n",
    "model.eval()\n",
    "x, y = testing_data[247][0], testing_data[247][1]\n",
    "with torch.no_grad():\n",
    "    pred = model(x)\n",
    "    predicted, actual= classes[pred[0].argmax(0)], classes[y]\n",
    "    print(f\"Predicted: {predicted}, Actual: {actual}\")"
   ]
  },
  {
   "cell_type": "code",
   "execution_count": null,
   "metadata": {},
   "outputs": [],
   "source": []
  }
 ],
 "metadata": {
  "kernelspec": {
   "display_name": "Python 3",
   "language": "python",
   "name": "python3"
  },
  "language_info": {
   "codemirror_mode": {
    "name": "ipython",
    "version": 3
   },
   "file_extension": ".py",
   "mimetype": "text/x-python",
   "name": "python",
   "nbconvert_exporter": "python",
   "pygments_lexer": "ipython3",
   "version": "3.8.8"
  }
 },
 "nbformat": 4,
 "nbformat_minor": 1
}
